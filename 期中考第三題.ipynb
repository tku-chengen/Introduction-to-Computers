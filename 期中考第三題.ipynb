{
  "nbformat": 4,
  "nbformat_minor": 0,
  "metadata": {
    "colab": {
      "provenance": [],
      "authorship_tag": "ABX9TyO15P290QmF8grrXs7jC5CP",
      "include_colab_link": true
    },
    "kernelspec": {
      "name": "python3",
      "display_name": "Python 3"
    },
    "language_info": {
      "name": "python"
    }
  },
  "cells": [
    {
      "cell_type": "markdown",
      "metadata": {
        "id": "view-in-github",
        "colab_type": "text"
      },
      "source": [
        "<a href=\"https://colab.research.google.com/github/tku-chengen/Introduction-to-Computers/blob/main/%E6%9C%9F%E4%B8%AD%E8%80%83%E7%AC%AC%E4%B8%89%E9%A1%8C.ipynb\" target=\"_parent\"><img src=\"https://colab.research.google.com/assets/colab-badge.svg\" alt=\"Open In Colab\"/></a>"
      ]
    },
    {
      "cell_type": "code",
      "source": [
        "n = input(\"一個整數\")\n",
        "sum = 0\n",
        "for i in range(int(n)):\n",
        " sum += i + 1\n",
        " print(i)\n",
        "print(sum)"
      ],
      "metadata": {
        "colab": {
          "base_uri": "https://localhost:8080/"
        },
        "id": "Z6bc6rAdiGFm",
        "outputId": "1086042a-7a2b-407c-b222-ebbb91f052f1"
      },
      "execution_count": 31,
      "outputs": [
        {
          "output_type": "stream",
          "name": "stdout",
          "text": [
            "一個整數5\n",
            "0\n",
            "1\n",
            "2\n",
            "3\n",
            "4\n",
            "15\n"
          ]
        }
      ]
    }
  ]
}