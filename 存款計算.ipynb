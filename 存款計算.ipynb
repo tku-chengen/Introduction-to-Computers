{
  "nbformat": 4,
  "nbformat_minor": 0,
  "metadata": {
    "colab": {
      "provenance": [],
      "authorship_tag": "ABX9TyPH9Sn0cI2FEA56LLD6aiE2",
      "include_colab_link": true
    },
    "kernelspec": {
      "name": "python3",
      "display_name": "Python 3"
    },
    "language_info": {
      "name": "python"
    }
  },
  "cells": [
    {
      "cell_type": "markdown",
      "metadata": {
        "id": "view-in-github",
        "colab_type": "text"
      },
      "source": [
        "<a href=\"https://colab.research.google.com/github/tku-chengen/Introduction-to-Computers/blob/main/%E5%AD%98%E6%AC%BE%E8%A8%88%E7%AE%97.ipynb\" target=\"_parent\"><img src=\"https://colab.research.google.com/assets/colab-badge.svg\" alt=\"Open In Colab\"/></a>"
      ]
    },
    {
      "cell_type": "code",
      "source": [
        "m = int(input(\"input m:\"))\n",
        "n = int(input(\" n:\"))\n",
        "m_nyear = m * (1.02)** n\n",
        "print(\"N年後存款為:\",m_nyear)"
      ],
      "metadata": {
        "colab": {
          "base_uri": "https://localhost:8080/"
        },
        "id": "jf8U8J1kbl_E",
        "outputId": "64439f7c-ecf7-405f-e904-3ecebca756dc"
      },
      "execution_count": 11,
      "outputs": [
        {
          "output_type": "stream",
          "name": "stdout",
          "text": [
            "input m:10000\n",
            " n:6\n",
            "N年後存款為: 11261.62419264\n"
          ]
        }
      ]
    }
  ]
}